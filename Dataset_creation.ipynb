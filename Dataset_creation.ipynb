{
  "nbformat": 4,
  "nbformat_minor": 0,
  "metadata": {
    "colab": {
      "provenance": [],
      "authorship_tag": "ABX9TyM2AIDyRRGI65rFWOUym+OH",
      "include_colab_link": true
    },
    "kernelspec": {
      "name": "python3",
      "display_name": "Python 3"
    },
    "language_info": {
      "name": "python"
    }
  },
  "cells": [
    {
      "cell_type": "markdown",
      "metadata": {
        "id": "view-in-github",
        "colab_type": "text"
      },
      "source": [
        "<a href=\"https://colab.research.google.com/github/adeshsingh5505/pdfExtract/blob/main/Dataset_creation.ipynb\" target=\"_parent\"><img src=\"https://colab.research.google.com/assets/colab-badge.svg\" alt=\"Open In Colab\"/></a>"
      ]
    },
    {
      "cell_type": "code",
      "execution_count": 13,
      "metadata": {
        "id": "RSFlxcSaVPmQ"
      },
      "outputs": [],
      "source": [
        "import pandas as pd\n",
        "\n",
        "# Load the CSV file\n",
        "df = pd.read_csv(\"/content/input.csv\")\n",
        "\n",
        "# Define the values you want to match in columns C and D\n",
        "value_D = \"value_D\"\n",
        "value_C = \"value_C\"\n",
        "\n",
        "# Create condition (D == value_D) and (C == value_C)\n",
        "mask = (df.iloc[:, 3] == \"TimesTen-Roman\") & (df.iloc[:, 2] == 10)\n",
        "mask2 =(df.iloc[:, 3] == \"TimesTenLTStd-Roman\") & (df.iloc[:, 2] == 8)\n",
        "mask3 =(df.iloc[:, 3] == \"ITCAvantGardeStd-Bk\") & (df.iloc[:, 2] == 40)\n",
        "mask4=(df.iloc[:, 3] == \"ITCAvantGardeStd-Bk\") & (df.iloc[:, 2] == 20)\n",
        "mask5= (df.iloc[:, 3] == \"ITCAvantGardeStd-Bold\") & (df.iloc[:, 2] == 10)\n",
        "mask6=(df.iloc[:, 3] == \"TimesTenLTStd-Roman\") & (df.iloc[:, 2] == 10)\n",
        "mask7= (df.iloc[:, 3] == \"Univers-Light\") & (df.iloc[:, 2] == 9)\n",
        "mask8= (df.iloc[:, 3] == \"AvantGarde-Demi\") & (df.iloc[:, 2] == 10)\n",
        "mask9= (df.iloc[:, 3] == \"TimesTen-Bold\") & (df.iloc[:, 2] == 10)\n",
        "mask10= (df.iloc[:, 3] == \"Helvetica\") & (df.iloc[:, 2] == 8)\n",
        "mask11 = (df.iloc[:, 3] == \"TimesTen-Roman\") & (df.iloc[:, 2] == 9)\n",
        "mask12= (df.iloc[:, 3] == \"TimesTen-Roman\") & (df.iloc[:, 2] == 10.5)\n",
        "mask13= (df.iloc[:, 3] == \"Helvetica\")\n",
        "\n",
        "# Fill column K (index 10) with desired value, e.g., \"MATCHED\"\n",
        "df.iloc[mask, 10] = \"Other\"\n",
        "df.iloc[mask2, 10] = \"Other\"\n",
        "df.iloc[mask3, 10] = \"Title\"\n",
        "df.iloc[mask4, 10] = \"H1\"\n",
        "df.iloc[mask5, 10] = \"H3\"\n",
        "df.iloc[mask6, 10] = \"Other\"\n",
        "df.iloc[mask7, 10] = \"Other\"\n",
        "df.iloc[mask8, 10] = \"H3\"\n",
        "df.iloc[mask9, 10] = \"Title\"\n",
        "df.iloc[mask10, 10] = \"Other\"\n",
        "df.iloc[mask11, 10] = \"Other\"\n",
        "df.iloc[mask12, 10] = \"H3\"\n",
        "df.iloc[mask13, 10] = \"Other\"\n",
        "\n",
        "df.iloc[:, 10] = df.iloc[:, 10].replace('', pd.NA)  # convert empty strings to NA\n",
        "df.iloc[:, 10] = df.iloc[:, 10].fillna('Other')     # fill NA with 'Other'\n",
        "# Save the updated CSV\n",
        "df.to_csv(\"output.csv\", index=False)\n"
      ]
    },
    {
      "cell_type": "code",
      "source": [
        "import pandas as pd\n",
        "\n",
        "# Load CSV\n",
        "df = pd.read_csv(\"/content/output.csv\")\n",
        "\n",
        "# Count empty cells in column K (index 10)\n",
        "empty_k_count = df.iloc[:, 10].isna().sum() + (df.iloc[:, 10].astype(str).str.strip() == \"\").sum()\n",
        "\n",
        "print(\"Number of empty cells in column K:\", empty_k_count)\n"
      ],
      "metadata": {
        "colab": {
          "base_uri": "https://localhost:8080/"
        },
        "id": "yJIK-wdcbXt7",
        "outputId": "c265df25-d53d-45c9-a9d3-c232bd2014d1"
      },
      "execution_count": 14,
      "outputs": [
        {
          "output_type": "stream",
          "name": "stdout",
          "text": [
            "Number of empty cells in column K: 0\n"
          ]
        }
      ]
    }
  ]
}
